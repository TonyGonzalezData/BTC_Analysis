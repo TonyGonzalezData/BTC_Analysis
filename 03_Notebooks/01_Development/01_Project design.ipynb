{
 "cells": [
  {
   "cell_type": "markdown",
   "id": "65619eaf",
   "metadata": {},
   "source": [
    "# PROJECT DESIGN"
   ]
  },
  {
   "cell_type": "markdown",
   "id": "f1a9a140",
   "metadata": {},
   "source": [
    "## OBJECTIVE"
   ]
  },
  {
   "cell_type": "markdown",
   "id": "2f54133f",
   "metadata": {},
   "source": [
    "* Identify whether the highest-cap cryptocurrencies follow a price pattern similar to BTC, indicating dependency, or if they behave according to their own market rules.\n",
    "\n",
    "* Determine which of these cryptocurrencies offer the potential for higher returns with lower risk (understood here as lower volatility) in relation to a mid and long term investment."
   ]
  },
  {
   "cell_type": "markdown",
   "id": "8fb8aca2",
   "metadata": {},
   "source": [
    "## DRIVERS"
   ]
  },
  {
   "cell_type": "markdown",
   "id": "d9380334",
   "metadata": {},
   "source": [
    "The key factors that will influence both price trends and investment returns are as follows:\n",
    "\n",
    "* **Market Price Trend**: its evolution over time defines the behavior of each asset and enables comparisons.\n",
    "* **Market Capitalization**: higher market capitalization indicates greater asset valuation by the market itself and increased liquidity.\n",
    "* **Volatility**: the lower the volatility, the lower the risk."
   ]
  },
  {
   "cell_type": "markdown",
   "id": "d321de30",
   "metadata": {},
   "source": [
    "## KPIs"
   ]
  },
  {
   "cell_type": "markdown",
   "id": "dc75cf61",
   "metadata": {},
   "source": [
    "* We will measure market trend by analyzing the evolution of the **50-day and 200-day moving averages**.\n",
    "\n",
    "* We will measure **market capitalization** using its value in U.S. dollars.\n",
    "\n",
    "* We will measure volatility through the spread of **annual historical volatility**."
   ]
  },
  {
   "cell_type": "markdown",
   "id": "28a6275a",
   "metadata": {},
   "source": [
    "## ENTITIES AND DATA"
   ]
  },
  {
   "cell_type": "markdown",
   "id": "43bda11d",
   "metadata": {},
   "source": [
    "The relevant entities for our objective, for which we can obtain data, are the assets."
   ]
  },
  {
   "cell_type": "markdown",
   "id": "80de46d9",
   "metadata": {},
   "source": [
    "## SEED QUESTIONS"
   ]
  },
  {
   "cell_type": "markdown",
   "id": "d8fd1d3e",
   "metadata": {},
   "source": [
    "### About Price Pattern:\n",
    "\n",
    "* Which assets follow a pattern similar to Bitcoin? Which ones do not?\n",
    "* Are assets with a similar pattern to Bitcoin more profitable than those without?\n",
    "* Among the assets that follow a pattern similar to BTC, are there any that outperform its returns?\n",
    "* What is the ranking of assets based on profitability?\n",
    "\n",
    "### About Volatility:\n",
    "\n",
    "* What is the ranking of assets based on volatility?\n",
    "* Are there assets with a volatility pattern similar to BTC? Do these overlap with assets that have a similar price pattern?\n",
    "* Does higher volatility indicate better annual returns? Are they correlated?\n",
    "* Which assets show higher profitability with lower volatility?\n",
    "* Is BTC the best asset for medium- and long-term investment based on these profitability and volatility criteria?\n",
    "* Does the group of assets that follow BTC’s pattern (in terms of price and volatility) have higher profitability than those that do not follow the same pattern?\n"
   ]
  }
 ],
 "metadata": {
  "hide_input": false,
  "kernelspec": {
   "display_name": "Python 3 (ipykernel)",
   "language": "python",
   "name": "python3"
  },
  "language_info": {
   "codemirror_mode": {
    "name": "ipython",
    "version": 3
   },
   "file_extension": ".py",
   "mimetype": "text/x-python",
   "name": "python",
   "nbconvert_exporter": "python",
   "pygments_lexer": "ipython3",
   "version": "3.12.3"
  },
  "toc": {
   "base_numbering": 1,
   "nav_menu": {},
   "number_sections": true,
   "sideBar": true,
   "skip_h1_title": false,
   "title_cell": "Table of Contents",
   "title_sidebar": "Contents",
   "toc_cell": false,
   "toc_position": {},
   "toc_section_display": true,
   "toc_window_display": true
  },
  "varInspector": {
   "cols": {
    "lenName": 16,
    "lenType": 16,
    "lenVar": 40
   },
   "kernels_config": {
    "python": {
     "delete_cmd_postfix": "",
     "delete_cmd_prefix": "del ",
     "library": "var_list.py",
     "varRefreshCmd": "print(var_dic_list())"
    },
    "r": {
     "delete_cmd_postfix": ") ",
     "delete_cmd_prefix": "rm(",
     "library": "var_list.r",
     "varRefreshCmd": "cat(var_dic_list()) "
    }
   },
   "types_to_exclude": [
    "module",
    "function",
    "builtin_function_or_method",
    "instance",
    "_Feature"
   ],
   "window_display": false
  }
 },
 "nbformat": 4,
 "nbformat_minor": 5
}
